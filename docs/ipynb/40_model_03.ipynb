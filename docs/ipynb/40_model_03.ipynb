{
 "cells": [
  {
   "cell_type": "code",
   "execution_count": 1,
   "metadata": {
    "collapsed": true
   },
   "outputs": [],
   "source": [
    "###Hide\n",
    "import numpy as np\n",
    "import pandas as pd\n",
    "import scipy as sp\n",
    "from sklearn import preprocessing\n",
    "from sklearn.cross_validation import KFold\n",
    "from sklearn.linear_model import LinearRegression\n",
    "from sklearn.linear_model import LogisticRegression\n",
    "from sklearn.discriminant_analysis import LinearDiscriminantAnalysis as LDA\n",
    "from sklearn.discriminant_analysis import QuadraticDiscriminantAnalysis as QDA\n",
    "from sklearn.neighbors import KNeighborsClassifier as KNN\n",
    "from sklearn.tree import DecisionTreeClassifier as DecisionTree\n",
    "from sklearn.ensemble import RandomForestClassifier as RandomForest\n",
    "from sklearn.ensemble import AdaBoostClassifier as AdaBoost\n",
    "from sklearn.svm import SVC\n",
    "from sklearn.cross_validation import train_test_split\n",
    "from sklearn import metrics\n",
    "from sklearn import grid_search\n",
    "from sklearn.decomposition import PCA\n",
    "from sklearn import feature_selection as fs\n",
    "from sklearn.metrics import confusion_matrix\n",
    "import itertools\n",
    "import pickle\n",
    "import matplotlib\n",
    "import matplotlib.pyplot as plt\n",
    "from mpl_toolkits.mplot3d import Axes3D\n",
    "%matplotlib inline"
   ]
  },
  {
   "cell_type": "markdown",
   "metadata": {},
   "source": [
    "# Step 4: Final Models"
   ]
  },
  {
   "cell_type": "code",
   "execution_count": 2,
   "metadata": {
    "collapsed": true
   },
   "outputs": [],
   "source": [
    "# Load the models\n",
    "best_overall = pickle.load(open('datasets/best_overall.pkl', 'rb'))\n",
    "best_class0 = pickle.load(open('datasets/best_class0.pkl', 'rb'))\n",
    "best_class1 = pickle.load(open('datasets/best_class1.pkl', 'rb'))\n",
    "\n",
    "# Load the data\n",
    "ncds_data_no_indicators = pd.read_csv('datasets/ncds_data_no_indicators.csv', delimiter=',', low_memory=False)"
   ]
  },
  {
   "cell_type": "code",
   "execution_count": 19,
   "metadata": {
    "collapsed": false
   },
   "outputs": [],
   "source": [
    "### Utility methods\n",
    "# Compute confusion matrix\n",
    "def plt_cnf(model, X, y):\n",
    "    y_pred = model.predict(X)\n",
    "    cnf_matrix = confusion_matrix(y, y_pred)\n",
    "    #print cnf_matrix\n",
    "    np.set_printoptions(precision=1)\n",
    "\n",
    "    # Plot confusion matrix\n",
    "    fig, ax = plt.subplots(1, 1, figsize=(15, 7))\n",
    "    img1 = plot_confusion_matrix(ax, cnf_matrix, classes=[0, 1],title='Confusion matrix')\n",
    "\n",
    "    plt.colorbar(img1, ax=ax)\n",
    "    plt.show()\n",
    "\n",
    "def plot_confusion_matrix(ax, cm, classes,title='Confusion matrix',cmap=plt.cm.Blues):\n",
    "    \"\"\"\n",
    "    This function prints and plots the confusion matrix.\n",
    "    Normalization can be applied by setting `normalize=True`.\n",
    "    \"\"\"\n",
    "    img = ax.imshow(cm, interpolation='nearest', cmap=cmap)\n",
    "    ax.set_title(title)\n",
    "    tick_marks = np.arange(len(classes))\n",
    "    ax.set_xticks(tick_marks)\n",
    "    ax.set_xticklabels(classes, rotation=45)\n",
    "\n",
    "    ax.set_yticklabels([\"\", \"0\", \"\", \"1\"], rotation=45)\n",
    "\n",
    "\n",
    "    thresh = cm.max() / 2.\n",
    "    for i, j in itertools.product(range(cm.shape[0]), range(cm.shape[1])):\n",
    "        ax.text(j, i, cm[i, j],horizontalalignment=\"center\",color=\"white\" if cm[i, j] > thresh else \"black\")\n",
    "\n",
    "    ax.set_ylabel('True label')\n",
    "    ax.set_xlabel('Predicted label')\n",
    "    return img\n",
    "\n",
    "def find_top_features(model,n):\n",
    "    # Get the feature importances\n",
    "    feature_importances = pd.DataFrame(ncds_data_no_indicators.columns,columns=['feature'])\n",
    "    feature_importances = feature_importances[feature_importances['feature'] != 'epileptic']\n",
    "\n",
    "    feature_importances['importance'] = model.feature_importances_\n",
    "    feature_importances = feature_importances.sort_values(['importance'], ascending=[False]).head(n)\n",
    "    \n",
    "    return feature_importances\n",
    "\n",
    "# Function for computing the accuracy a given model on the entire test set,\n",
    "# the accuracy on class 0 in the test set\n",
    "# and the accuracy on class 1\n",
    "score = lambda model, x_test, y_test: pd.Series([model.score(x_test, y_test), \n",
    "                                                 model.score(x_test[y_test==0], y_test[y_test==0]),\n",
    "                                                 model.score(x_test[y_test==1], y_test[y_test==1])],\n",
    "                                                index=['overall accuracy', 'accuracy on class 0', 'accuracy on class 1'])\n"
   ]
  },
  {
   "cell_type": "code",
   "execution_count": 4,
   "metadata": {
    "collapsed": false
   },
   "outputs": [],
   "source": [
    "# Prepare data for model evaluation\n",
    "x = ncds_data_no_indicators.values[:, :-1]\n",
    "y = ncds_data_no_indicators.values[:, -1]\n",
    "x_train, x_test, y_train, y_test = train_test_split(x, y, test_size=0.4, random_state=42)\n"
   ]
  },
  {
   "cell_type": "markdown",
   "metadata": {},
   "source": [
    "#### Step 4.1: Best Overall Performance\n",
    "\n",
    "Model that performs well overall on both class 0 and class 1 predictions"
   ]
  },
  {
   "cell_type": "code",
   "execution_count": 50,
   "metadata": {
    "collapsed": false
   },
   "outputs": [
    {
     "data": {
      "image/png": "[encoded data removed]",
      "text/plain": [
       "<matplotlib.figure.Figure at 0x11ca17850>"
      ]
     },
     "metadata": {},
     "output_type": "display_data"
    },
    {
     "name": "stdout",
     "output_type": "stream",
     "text": [
      "overall accuracy       0.915948\n",
      "accuracy on class 0    0.944469\n",
      "accuracy on class 1    0.637155\n",
      "dtype: float64\n"
     ]
    }
   ],
   "source": [
    "plt_cnf(best_overall,x,y)\n",
    "rf_scores = score(best_overall, x_test, y_test)\n",
    "print rf_scores"
   ]
  },
  {
   "cell_type": "markdown",
   "metadata": {},
   "source": [
    "##### Find the most importance features for this model"
   ]
  },
  {
   "cell_type": "code",
   "execution_count": 20,
   "metadata": {
    "collapsed": false
   },
   "outputs": [
    {
     "data": {
      "text/html": [
       "<div>\n",
       "<table border=\"1\" class=\"dataframe\">\n",
       "  <thead>\n",
       "    <tr style=\"text-align: right;\">\n",
       "      <th></th>\n",
       "      <th>feature</th>\n",
       "      <th>importance</th>\n",
       "    </tr>\n",
       "  </thead>\n",
       "  <tbody>\n",
       "    <tr>\n",
       "      <th>1175</th>\n",
       "      <td>n2614</td>\n",
       "      <td>0.038719</td>\n",
       "    </tr>\n",
       "    <tr>\n",
       "      <th>196</th>\n",
       "      <td>n275</td>\n",
       "      <td>0.038202</td>\n",
       "    </tr>\n",
       "    <tr>\n",
       "      <th>1325</th>\n",
       "      <td>n2032</td>\n",
       "      <td>0.028302</td>\n",
       "    </tr>\n",
       "    <tr>\n",
       "      <th>195</th>\n",
       "      <td>n274</td>\n",
       "      <td>0.027948</td>\n",
       "    </tr>\n",
       "    <tr>\n",
       "      <th>329</th>\n",
       "      <td>n412</td>\n",
       "      <td>0.027122</td>\n",
       "    </tr>\n",
       "    <tr>\n",
       "      <th>1792</th>\n",
       "      <td>OUTCME01</td>\n",
       "      <td>0.019769</td>\n",
       "    </tr>\n",
       "    <tr>\n",
       "      <th>283</th>\n",
       "      <td>n354</td>\n",
       "      <td>0.017962</td>\n",
       "    </tr>\n",
       "    <tr>\n",
       "      <th>571</th>\n",
       "      <td>n1400</td>\n",
       "      <td>0.014493</td>\n",
       "    </tr>\n",
       "    <tr>\n",
       "      <th>1326</th>\n",
       "      <td>n2033</td>\n",
       "      <td>0.013847</td>\n",
       "    </tr>\n",
       "    <tr>\n",
       "      <th>3</th>\n",
       "      <td>n2region</td>\n",
       "      <td>0.013218</td>\n",
       "    </tr>\n",
       "  </tbody>\n",
       "</table>\n",
       "</div>"
      ],
      "text/plain": [
       "       feature  importance\n",
       "1175     n2614    0.038719\n",
       "196       n275    0.038202\n",
       "1325     n2032    0.028302\n",
       "195       n274    0.027948\n",
       "329       n412    0.027122\n",
       "1792  OUTCME01    0.019769\n",
       "283       n354    0.017962\n",
       "571      n1400    0.014493\n",
       "1326     n2033    0.013847\n",
       "3     n2region    0.013218"
      ]
     },
     "execution_count": 20,
     "metadata": {},
     "output_type": "execute_result"
    }
   ],
   "source": [
    "# Find top 10 features\n",
    "top_features = find_top_features(best_overall,10)\n",
    "\n",
    "top_features.head(10)"
   ]
  },
  {
   "cell_type": "markdown",
   "metadata": {},
   "source": [
    "**Best Features:**\n",
    "- n2614 - Convulsions,fits-unconsciousness\n",
    "- n275 - Aptitude for Science -study child\n",
    "- n2032 - Epilepsy\n",
    "- n274 - Fit or convulsion in 1st year of life\n",
    "- n412 - Abnormal heart\n",
    "- OUTCME01 - Outcome to NCDS1 (1965)\n",
    "- n354 - Other heart murmer\n",
    "- n1400 - No.of times chld admitted to hospital\n",
    "- n2033 - CNS condition,other than epilepsy\n",
    "- n2region - Region at NCDS2 (1969) - 11 years"
   ]
  },
  {
   "cell_type": "markdown",
   "metadata": {},
   "source": [
    "#### Step 4.2: Best Class 0 Performance\n",
    "\n",
    "Model that performs well on class 0 predictions"
   ]
  },
  {
   "cell_type": "code",
   "execution_count": 51,
   "metadata": {
    "collapsed": false
   },
   "outputs": [
    {
     "data": {
      "image/png": "[encoded data removed]",
      "text/plain": [
       "<matplotlib.figure.Figure at 0x11ca17050>"
      ]
     },
     "metadata": {},
     "output_type": "display_data"
    },
    {
     "name": "stdout",
     "output_type": "stream",
     "text": [
      "overall accuracy       0.781519\n",
      "accuracy on class 0    0.792279\n",
      "accuracy on class 1    0.676343\n",
      "dtype: float64\n"
     ]
    }
   ],
   "source": [
    "plt_cnf(best_class0,x,y)\n",
    "rf_scores = score(best_class0, x_test, y_test)\n",
    "print rf_scores"
   ]
  },
  {
   "cell_type": "markdown",
   "metadata": {},
   "source": [
    "##### Find the most importance features for this model"
   ]
  },
  {
   "cell_type": "code",
   "execution_count": 21,
   "metadata": {
    "collapsed": false
   },
   "outputs": [
    {
     "data": {
      "text/html": [
       "<div>\n",
       "<table border=\"1\" class=\"dataframe\">\n",
       "  <thead>\n",
       "    <tr style=\"text-align: right;\">\n",
       "      <th></th>\n",
       "      <th>feature</th>\n",
       "      <th>importance</th>\n",
       "    </tr>\n",
       "  </thead>\n",
       "  <tbody>\n",
       "    <tr>\n",
       "      <th>1175</th>\n",
       "      <td>n2614</td>\n",
       "      <td>0.039365</td>\n",
       "    </tr>\n",
       "    <tr>\n",
       "      <th>196</th>\n",
       "      <td>n275</td>\n",
       "      <td>0.033522</td>\n",
       "    </tr>\n",
       "    <tr>\n",
       "      <th>283</th>\n",
       "      <td>n354</td>\n",
       "      <td>0.022786</td>\n",
       "    </tr>\n",
       "    <tr>\n",
       "      <th>1792</th>\n",
       "      <td>OUTCME01</td>\n",
       "      <td>0.020781</td>\n",
       "    </tr>\n",
       "    <tr>\n",
       "      <th>1793</th>\n",
       "      <td>OUTCME02</td>\n",
       "      <td>0.019669</td>\n",
       "    </tr>\n",
       "    <tr>\n",
       "      <th>195</th>\n",
       "      <td>n274</td>\n",
       "      <td>0.017247</td>\n",
       "    </tr>\n",
       "    <tr>\n",
       "      <th>571</th>\n",
       "      <td>n1400</td>\n",
       "      <td>0.016847</td>\n",
       "    </tr>\n",
       "    <tr>\n",
       "      <th>1303</th>\n",
       "      <td>n2008</td>\n",
       "      <td>0.015768</td>\n",
       "    </tr>\n",
       "    <tr>\n",
       "      <th>2</th>\n",
       "      <td>n1region</td>\n",
       "      <td>0.015062</td>\n",
       "    </tr>\n",
       "    <tr>\n",
       "      <th>1794</th>\n",
       "      <td>OUTCME03</td>\n",
       "      <td>0.013978</td>\n",
       "    </tr>\n",
       "  </tbody>\n",
       "</table>\n",
       "</div>"
      ],
      "text/plain": [
       "       feature  importance\n",
       "1175     n2614    0.039365\n",
       "196       n275    0.033522\n",
       "283       n354    0.022786\n",
       "1792  OUTCME01    0.020781\n",
       "1793  OUTCME02    0.019669\n",
       "195       n274    0.017247\n",
       "571      n1400    0.016847\n",
       "1303     n2008    0.015768\n",
       "2     n1region    0.015062\n",
       "1794  OUTCME03    0.013978"
      ]
     },
     "execution_count": 21,
     "metadata": {},
     "output_type": "execute_result"
    }
   ],
   "source": [
    "# Find top 10 features\n",
    "top_features = find_top_features(best_class0,10)\n",
    "\n",
    "top_features.head(10)"
   ]
  },
  {
   "cell_type": "markdown",
   "metadata": {},
   "source": [
    "**Best Features:**\n",
    "- n2614 - Convulsions,fits-unconsciousness\n",
    "- n275 - Aptitude for Science -study child\n",
    "- n354 - Other heart murmer\n",
    "- OUTCME01 - Outcome to NCDS1 (1965)\n",
    "- OUTCME02 - Outcome to NCDS2 (1969)\n",
    "- n274 - Fit or convulsion in 1st year of life\n",
    "- n1400 - No.of times chld admitted to hospital\n",
    "- n2008 - Standing heel to toe for 15 secs\n",
    "- n1region - Region at NCDS1 (1965) - 7 years\n",
    "- OUTCME03 - Outcome to NCDS3 (1974)"
   ]
  },
  {
   "cell_type": "markdown",
   "metadata": {},
   "source": [
    "#### Step 4.3: Best Class 1 Performance\n",
    "\n",
    "Model that performs well on class 1 predictions"
   ]
  },
  {
   "cell_type": "code",
   "execution_count": 52,
   "metadata": {
    "collapsed": false
   },
   "outputs": [
    {
     "data": {
      "image/png": "[encoded data removed]",
      "text/plain": [
       "<matplotlib.figure.Figure at 0x11c76cd10>"
      ]
     },
     "metadata": {},
     "output_type": "display_data"
    },
    {
     "name": "stdout",
     "output_type": "stream",
     "text": [
      "overall accuracy       0.683324\n",
      "accuracy on class 0    0.679584\n",
      "accuracy on class 1    0.719884\n",
      "dtype: float64\n"
     ]
    }
   ],
   "source": [
    "plt_cnf(best_class1,x,y)\n",
    "rf_scores = score(best_class1, x_test, y_test)\n",
    "print rf_scores"
   ]
  },
  {
   "cell_type": "markdown",
   "metadata": {},
   "source": [
    "##### Find the most importance features for this model"
   ]
  },
  {
   "cell_type": "code",
   "execution_count": 22,
   "metadata": {
    "collapsed": false
   },
   "outputs": [
    {
     "data": {
      "text/html": [
       "<div>\n",
       "<table border=\"1\" class=\"dataframe\">\n",
       "  <thead>\n",
       "    <tr style=\"text-align: right;\">\n",
       "      <th></th>\n",
       "      <th>feature</th>\n",
       "      <th>importance</th>\n",
       "    </tr>\n",
       "  </thead>\n",
       "  <tbody>\n",
       "    <tr>\n",
       "      <th>1175</th>\n",
       "      <td>n2614</td>\n",
       "      <td>0.045283</td>\n",
       "    </tr>\n",
       "    <tr>\n",
       "      <th>196</th>\n",
       "      <td>n275</td>\n",
       "      <td>0.032288</td>\n",
       "    </tr>\n",
       "    <tr>\n",
       "      <th>1792</th>\n",
       "      <td>OUTCME01</td>\n",
       "      <td>0.021451</td>\n",
       "    </tr>\n",
       "    <tr>\n",
       "      <th>283</th>\n",
       "      <td>n354</td>\n",
       "      <td>0.020584</td>\n",
       "    </tr>\n",
       "    <tr>\n",
       "      <th>1159</th>\n",
       "      <td>n2598</td>\n",
       "      <td>0.019780</td>\n",
       "    </tr>\n",
       "    <tr>\n",
       "      <th>1793</th>\n",
       "      <td>OUTCME02</td>\n",
       "      <td>0.019386</td>\n",
       "    </tr>\n",
       "    <tr>\n",
       "      <th>2</th>\n",
       "      <td>n1region</td>\n",
       "      <td>0.019220</td>\n",
       "    </tr>\n",
       "    <tr>\n",
       "      <th>195</th>\n",
       "      <td>n274</td>\n",
       "      <td>0.018008</td>\n",
       "    </tr>\n",
       "    <tr>\n",
       "      <th>1794</th>\n",
       "      <td>OUTCME03</td>\n",
       "      <td>0.016403</td>\n",
       "    </tr>\n",
       "    <tr>\n",
       "      <th>52</th>\n",
       "      <td>n514</td>\n",
       "      <td>0.015545</td>\n",
       "    </tr>\n",
       "  </tbody>\n",
       "</table>\n",
       "</div>"
      ],
      "text/plain": [
       "       feature  importance\n",
       "1175     n2614    0.045283\n",
       "196       n275    0.032288\n",
       "1792  OUTCME01    0.021451\n",
       "283       n354    0.020584\n",
       "1159     n2598    0.019780\n",
       "1793  OUTCME02    0.019386\n",
       "2     n1region    0.019220\n",
       "195       n274    0.018008\n",
       "1794  OUTCME03    0.016403\n",
       "52        n514    0.015545"
      ]
     },
     "execution_count": 22,
     "metadata": {},
     "output_type": "execute_result"
    }
   ],
   "source": [
    "# Find top 10 features\n",
    "top_features = find_top_features(best_class1,10)\n",
    "\n",
    "top_features.head(10)"
   ]
  },
  {
   "cell_type": "markdown",
   "metadata": {},
   "source": [
    "**Best Features:**\n",
    "- n2614 - Convulsions,fits-unconsciousness\n",
    "- n275 - Aptitude for Science -study child\n",
    "- OUTCME01 - Outcome to NCDS1 (1965)\n",
    "- n354 - Other heart murmer\n",
    "- n2598 - Hospital admissions,general-MC 1:4\n",
    "- OUTCME02 - Outcome to NCDS2 (1969)\n",
    "- n1region - Region at NCDS1 (1965) - 7 years\n",
    "- n274 - Fit or convulsion in 1st year of life\n",
    "- OUTCME03 - Outcome to NCDS3 (1974) \n",
    "- n514 - Status of PMS births with no NCDS1"
   ]
  },
  {
   "cell_type": "code",
   "execution_count": null,
   "metadata": {
    "collapsed": true
   },
   "outputs": [],
   "source": []
  }
 ],
 "metadata": {
  "anaconda-cloud": {},
  "kernelspec": {
   "display_name": "Python [py27]",
   "language": "python",
   "name": "Python [py27]"
  },
  "language_info": {
   "codemirror_mode": {
    "name": "ipython",
    "version": 2
   },
   "file_extension": ".py",
   "mimetype": "text/x-python",
   "name": "python",
   "nbconvert_exporter": "python",
   "pygments_lexer": "ipython2",
   "version": "2.7.12"
  }
 },
 "nbformat": 4,
 "nbformat_minor": 0
}
