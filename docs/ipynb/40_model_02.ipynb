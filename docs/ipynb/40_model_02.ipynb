{
 "cells": [
  {
   "cell_type": "code",
   "execution_count": 2,
   "metadata": {
    "collapsed": true
   },
   "outputs": [],
   "source": [
    "###Hide\n",
    "import numpy as np\n",
    "import pandas as pd\n",
    "import scipy as sp\n",
    "from sklearn import preprocessing\n",
    "from sklearn.cross_validation import KFold\n",
    "from sklearn.linear_model import LinearRegression\n",
    "from sklearn.linear_model import LogisticRegression\n",
    "from sklearn.discriminant_analysis import LinearDiscriminantAnalysis as LDA\n",
    "from sklearn.discriminant_analysis import QuadraticDiscriminantAnalysis as QDA\n",
    "from sklearn.neighbors import KNeighborsClassifier as KNN\n",
    "from sklearn.tree import DecisionTreeClassifier as DecisionTree\n",
    "from sklearn.ensemble import RandomForestClassifier as RandomForest\n",
    "from sklearn.ensemble import AdaBoostClassifier as AdaBoost\n",
    "from sklearn.svm import SVC\n",
    "from sklearn.cross_validation import train_test_split\n",
    "from sklearn import metrics\n",
    "from sklearn import grid_search\n",
    "from sklearn.decomposition import PCA\n",
    "from sklearn import feature_selection as fs\n",
    "import matplotlib\n",
    "import matplotlib.pyplot as plt\n",
    "from mpl_toolkits.mplot3d import Axes3D\n",
    "%matplotlib inline"
   ]
  },
  {
   "cell_type": "markdown",
   "metadata": {},
   "source": [
    "## Tuning to Maximize Model Performance"
   ]
  },
  {
   "cell_type": "markdown",
   "metadata": {},
   "source": [
    "#### Step 2.1: Get Performance Metric"
   ]
  },
  {
   "cell_type": "code",
   "execution_count": 3,
   "metadata": {
    "collapsed": false
   },
   "outputs": [
    {
     "name": "stdout",
     "output_type": "stream",
     "text": [
      "Our Performance Metric is to get a better score the following:\n"
     ]
    },
    {
     "data": {
      "text/html": [
       "<div>\n",
       "<table border=\"1\" class=\"dataframe\">\n",
       "  <thead>\n",
       "    <tr style=\"text-align: right;\">\n",
       "      <th></th>\n",
       "      <th>KNN</th>\n",
       "      <th>LDA</th>\n",
       "      <th>QDA</th>\n",
       "      <th>RF</th>\n",
       "      <th>SVC</th>\n",
       "      <th>Tree</th>\n",
       "      <th>Unweighted Logistic</th>\n",
       "      <th>Weighted Logistic</th>\n",
       "    </tr>\n",
       "  </thead>\n",
       "  <tbody>\n",
       "    <tr>\n",
       "      <th>0</th>\n",
       "      <td>0.905711</td>\n",
       "      <td>0.906115</td>\n",
       "      <td>0.847791</td>\n",
       "      <td>0.791891</td>\n",
       "      <td>0.760776</td>\n",
       "      <td>0.896013</td>\n",
       "      <td>0.908675</td>\n",
       "      <td>0.648303</td>\n",
       "    </tr>\n",
       "    <tr>\n",
       "      <th>1</th>\n",
       "      <td>0.990794</td>\n",
       "      <td>0.990943</td>\n",
       "      <td>0.911210</td>\n",
       "      <td>0.843207</td>\n",
       "      <td>0.794655</td>\n",
       "      <td>0.974759</td>\n",
       "      <td>0.997327</td>\n",
       "      <td>0.657313</td>\n",
       "    </tr>\n",
       "    <tr>\n",
       "      <th>2</th>\n",
       "      <td>0.074020</td>\n",
       "      <td>0.076923</td>\n",
       "      <td>0.227866</td>\n",
       "      <td>0.290276</td>\n",
       "      <td>0.429608</td>\n",
       "      <td>0.126270</td>\n",
       "      <td>0.042090</td>\n",
       "      <td>0.560232</td>\n",
       "    </tr>\n",
       "  </tbody>\n",
       "</table>\n",
       "</div>"
      ],
      "text/plain": [
       "        KNN       LDA       QDA        RF       SVC      Tree  \\\n",
       "0  0.905711  0.906115  0.847791  0.791891  0.760776  0.896013   \n",
       "1  0.990794  0.990943  0.911210  0.843207  0.794655  0.974759   \n",
       "2  0.074020  0.076923  0.227866  0.290276  0.429608  0.126270   \n",
       "\n",
       "   Unweighted Logistic  Weighted Logistic  \n",
       "0             0.908675           0.648303  \n",
       "1             0.997327           0.657313  \n",
       "2             0.042090           0.560232  "
      ]
     },
     "execution_count": 3,
     "metadata": {},
     "output_type": "execute_result"
    }
   ],
   "source": [
    "# Load the performance metric\n",
    "performance_metric = pd.read_csv('datasets/performance_metric.csv', delimiter=',')\n",
    "\n",
    "print \"Our Performance Metric is to get a better score the following:\"\n",
    "performance_metric"
   ]
  },
  {
   "cell_type": "markdown",
   "metadata": {},
   "source": [
    "#### Step 2.2: Select Top Performing Models\n",
    "\n",
    "Pick the top 3 top performing models whos accuracy score is high in both classes. From the metric table we can see that Weighted Logistic, SVC, and Random Forest performs the best. So let take them as the base model and work towards tuning them to get better results."
   ]
  },
  {
   "cell_type": "markdown",
   "metadata": {},
   "source": [
    "#### Step 2.3: Tune Selected Model"
   ]
  },
  {
   "cell_type": "code",
   "execution_count": 4,
   "metadata": {
    "collapsed": false
   },
   "outputs": [
    {
     "name": "stdout",
     "output_type": "stream",
     "text": [
      "Train data:  (11134, 1802)\n",
      "Test data:  (7424, 1802)\n",
      "Train class 0: 10113, train class 1: 1021\n",
      "Test class 0: 6735, test class 1: 689\n"
     ]
    }
   ],
   "source": [
    "# Load the clean data\n",
    "ncds_data_no_indicators = pd.read_csv('datasets/ncds_data_no_indicators.csv', delimiter=',', low_memory=False)\n",
    "\n",
    "x = ncds_data_no_indicators.values[:, :-1]\n",
    "y = ncds_data_no_indicators.values[:, -1]\n",
    "\n",
    "x_train, x_test, y_train, y_test = train_test_split(x, y, test_size=0.4, random_state=42)\n",
    "\n",
    "#Print some useful info for our test, train sets\n",
    "print 'Train data: ', x_train.shape\n",
    "print 'Test data: ', x_test.shape\n",
    "print 'Train class 0: {}, train class 1: {}'.format(len(y_train[y_train == 0]), len(y_train[y_train == 1]))\n",
    "print 'Test class 0: {}, test class 1: {}'.format(len(y_test[y_test == 0]), len(y_test[y_test == 1]))"
   ]
  },
  {
   "cell_type": "code",
   "execution_count": 6,
   "metadata": {
    "collapsed": true
   },
   "outputs": [],
   "source": [
    "# Function for computing the accuracy a given model on the entire test set,\n",
    "# the accuracy on class 0 in the test set\n",
    "# and the accuracy on class 1\n",
    "score = lambda model, x_test, y_test: pd.Series([model.score(x_test, y_test), \n",
    "                                                 model.score(x_test[y_test==0], y_test[y_test==0]),\n",
    "                                                 model.score(x_test[y_test==1], y_test[y_test==1])],\n",
    "                                                index=['overall accuracy', 'accuracy on class 0', 'accuracy on class 1'])\n"
   ]
  },
  {
   "cell_type": "markdown",
   "metadata": {},
   "source": [
    "##### Weighted Logistic Regression Model Tuning"
   ]
  },
  {
   "cell_type": "code",
   "execution_count": null,
   "metadata": {
    "collapsed": false
   },
   "outputs": [
    {
     "name": "stdout",
     "output_type": "stream",
     "text": [
      "Tuning params without standardization of predictors:\n"
     ]
    }
   ],
   "source": [
    "### Logistic Model Tuning\n",
    "\n",
    "def tune_logistic_reg_model(x_train,y_train,x_test,y_test):\n",
    "    c_list = [0.00000001,0.0000001,0.000001,0.00001,0.0001, 0.001,0.01,0.015,0.02,0.03,0.04,0.08]\n",
    "    l1_overall = []\n",
    "    l1_class_0 = []\n",
    "    l1_class_1 = []\n",
    "    l2_overall = []\n",
    "    l2_class_0 = []\n",
    "    l2_class_1 = []\n",
    "\n",
    "    for c in c_list:\n",
    "        logistic = LogisticRegression(class_weight='balanced',C=c,penalty='l1')\n",
    "        logistic.fit(x_train, y_train)\n",
    "        logistic_scores = score(logistic, x_test, y_test)\n",
    "        #print logistic_scores\n",
    "        l1_overall.append(logistic_scores['overall accuracy'])\n",
    "        l1_class_0.append(logistic_scores['accuracy on class 0'])\n",
    "        l1_class_1.append(logistic_scores['accuracy on class 1'])\n",
    "        logistic = LogisticRegression(class_weight='balanced',C=c,penalty='l2')\n",
    "        logistic.fit(x_train, y_train)\n",
    "        logistic_scores = score(logistic, x_test, y_test)\n",
    "        #print logistic_scores\n",
    "        l2_overall.append(logistic_scores['overall accuracy'])\n",
    "        l2_class_0.append(logistic_scores['accuracy on class 0'])\n",
    "        l2_class_1.append(logistic_scores['accuracy on class 1'])\n",
    "\n",
    "\n",
    "    best_l1_class_1_accuracy = np.argmax(l1_class_1)\n",
    "    best_l2_class_1_accuracy = np.argmax(l2_class_1)\n",
    "    print \"Best Class 1 accuracy is for L1 and C: \" , c_list[best_l1_class_1_accuracy] , \" Class 1: \",round(l1_class_1[best_l1_class_1_accuracy],5) , \" Class 0: \",round(l1_class_0[best_l1_class_1_accuracy],5)\n",
    "    print \"Best Class 1 accuracy is for L2 and C: \" , c_list[best_l2_class_1_accuracy] , \" Class 1: \",round(l2_class_1[best_l2_class_1_accuracy],5) , \" Class 0: \",round(l2_class_0[best_l2_class_1_accuracy],5)\n",
    "\n",
    "    # Plot the results\n",
    "    fig, ax = plt.subplots(1, 2, figsize=(20, 7))\n",
    "    ax[0].plot(c_list,l1_overall,color='r',label='Overall')\n",
    "    ax[0].plot(c_list,l1_class_0,color='b',label='Class 0')\n",
    "    ax[0].plot(c_list,l1_class_1,color='g',label='Class 1')\n",
    "    ax[0].set_title(\"Log Reg, Balanced with penalty=l1\")\n",
    "    ax[0].set_xlabel('C')\n",
    "    ax[0].set_ylabel('Accuracy')\n",
    "    ax[0].legend(loc = 'best')\n",
    "\n",
    "    ax[1].plot(c_list,l2_overall,color='r',label='Overall')\n",
    "    ax[1].plot(c_list,l2_class_0,color='b',label='Class 0')\n",
    "    ax[1].plot(c_list,l2_class_1,color='g',label='Class 1')\n",
    "    ax[1].set_title(\"Log Reg, Balanced with penalty=l2\")\n",
    "    ax[1].set_xlabel('C')\n",
    "    ax[1].set_ylabel('Accuracy')\n",
    "    ax[1].legend(loc = 'best')\n",
    "\n",
    "    plt.tight_layout()\n",
    "    plt.show()\n",
    "\n",
    "# Tune without standarization\n",
    "print \"Tuning params without standardization of predictors:\"\n",
    "tune_logistic_reg_model(x_train,y_train,x_test,y_test)\n",
    "\n",
    "# Standardize predictors\n",
    "sc = preprocessing.StandardScaler()\n",
    "x_train_std = sc.fit_transform(x_train)\n",
    "x_test_std = sc.transform(x_test)\n",
    "\n",
    "print \"Tuning params with standardization of predictors:\"\n",
    "tune_logistic_reg_model(x_train_std,y_train,x_test_std,y_test)"
   ]
  },
  {
   "cell_type": "code",
   "execution_count": null,
   "metadata": {
    "collapsed": true
   },
   "outputs": [],
   "source": []
  }
 ],
 "metadata": {
  "anaconda-cloud": {},
  "kernelspec": {
   "display_name": "Python [py27]",
   "language": "python",
   "name": "Python [py27]"
  },
  "language_info": {
   "codemirror_mode": {
    "name": "ipython",
    "version": 2
   },
   "file_extension": ".py",
   "mimetype": "text/x-python",
   "name": "python",
   "nbconvert_exporter": "python",
   "pygments_lexer": "ipython2",
   "version": "2.7.12"
  }
 },
 "nbformat": 4,
 "nbformat_minor": 0
}
